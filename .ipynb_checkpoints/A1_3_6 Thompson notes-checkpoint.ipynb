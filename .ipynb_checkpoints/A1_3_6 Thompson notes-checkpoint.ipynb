{
 "cells": [
  {
   "cell_type": "markdown",
   "metadata": {},
   "source": [
    "Terms to know:\n",
    "- Tuple: A native type in python that can store a collection but cannot assign new values to individual elements \n",
    "- Syntax: Precise rules defining how the letters, words, and punctuation of a programming language are required to be used together\n",
    "- Immutable: not able to be changed after creation # example Tuples\n",
    "- Mutable: An object that is able to be changed after its creation\n",
    "- Psuedorandom: numbers that are difficult to predict and created by a computer\n",
    "\n",
    "Tuple:\n",
    "- tuples are created with parenthesis\n",
    "- Tuples never change value once they have been created, even if a variable that is used in it is changed later on\n",
    "- tuples are immutable\n",
    "\n",
    "lists:\n",
    "- Lists are created with brackets \n",
    "- their elements can be changed, inserted, and deleted\n",
    "- lists are mutable "
   ]
  },
  {
   "cell_type": "code",
   "execution_count": 7,
   "metadata": {},
   "outputs": [
    {
     "name": "stdout",
     "output_type": "stream",
     "text": [
      "a\n",
      "3\n",
      "('a', 'b')\n",
      "a\n"
     ]
    }
   ],
   "source": [
    "a = (2, 4, 5) # a is now a tuple \n",
    "b = (9, 'a', 11)\n",
    "\n",
    "some_values = ('a', 'b', 3)\n",
    "\n",
    "print(some_values[0])\n",
    "print(some_values[2])\n",
    "print(some_values[0:2])\n",
    "\n",
    "b[1] == 10\n",
    "print(b[1])\n"
   ]
  },
  {
   "cell_type": "code",
   "execution_count": 26,
   "metadata": {},
   "outputs": [
    {
     "name": "stdout",
     "output_type": "stream",
     "text": [
      "['a', 'b', 3]\n",
      "b\n",
      "['b', 3]\n",
      "True\n",
      "8\n",
      "3\n",
      "['a', 'b', 3, 4, 5]\n",
      "['a', 'b', 3, 4, 5, [6, 7]]\n",
      "['a', 'b', 3, 4, 5, [6, 7], 5, 6]\n",
      "18\n",
      "b\n",
      "5\n",
      "7.8479612884872525\n"
     ]
    }
   ],
   "source": [
    "values = ['a', 'b', 3]\n",
    "import random\n",
    "\n",
    "print(values)\n",
    "print(values[1])\n",
    "print(values[1:]) # starts from element one and onward\n",
    "print(values[2] == 3)\n",
    "print(values[2] + 5)\n",
    "print(values[2])\n",
    "values = values + [4, 5]\n",
    "print(values)\n",
    "values.append([6, 7])\n",
    "print(values)\n",
    "values += [5,6]\n",
    "print(values)\n",
    "a = 6\n",
    "a *= 3\n",
    "print(a)\n",
    "\n",
    "print(random.choice(values)) # choose from list\n",
    "print(random.randint(5,8)) # choose int from [5,6,7,8]\n",
    "print(random.uniform(5,8)) # choose float between 5 and 8"
   ]
  },
  {
   "cell_type": "code",
   "execution_count": 37,
   "metadata": {},
   "outputs": [
    {
     "data": {
      "text/plain": [
       "4"
      ]
     },
     "execution_count": 37,
     "metadata": {},
     "output_type": "execute_result"
    }
   ],
   "source": [
    "def roll_two_dice():\n",
    "    roll = random.randint(1,8) + random.randint(1,8)\n",
    "    return roll\n",
    "\n",
    "roll_two_dice()\n"
   ]
  },
  {
   "cell_type": "code",
   "execution_count": 53,
   "metadata": {},
   "outputs": [
    {
     "data": {
      "text/plain": [
       "'z'"
      ]
     },
     "execution_count": 53,
     "metadata": {},
     "output_type": "execute_result"
    }
   ],
   "source": [
    "alphabet = ['a', 'b', 'c', 'd', 'e', 'f', 'g', 'h', 'i', 'j', 'k', 'l', 'm', 'n', 'o', 'p', 'q', 'r', 's', 't', 'u', 'v', 'w', 'x', 'y', 'z']\n",
    "\n",
    "def guess_letter():\n",
    "    letter = random.choice(alphabet)\n",
    "    return letter\n",
    "\n",
    "guess_letter()"
   ]
  },
  {
   "cell_type": "markdown",
   "metadata": {},
   "source": [
    "Conclusion \n",
    "\n",
    "1. The values of a[3], b[3], and c[3] are all the same. In what ways are a, b, and c different?\n",
    "- a is a string, b is a tuple, and c is a list\n",
    "\n",
    "2. Why do computer programming languages almost always have a variety of variable types? Why can't everything be represented with an integer?\n",
    "- mneomonic use, if you used numbers, you would have trouble programming massive scripts."
   ]
  }
 ],
 "metadata": {
  "kernelspec": {
   "display_name": "Python 3",
   "language": "python",
   "name": "python3"
  },
  "language_info": {
   "codemirror_mode": {
    "name": "ipython",
    "version": 3
   },
   "file_extension": ".py",
   "mimetype": "text/x-python",
   "name": "python",
   "nbconvert_exporter": "python",
   "pygments_lexer": "ipython3",
   "version": "3.7.4"
  }
 },
 "nbformat": 4,
 "nbformat_minor": 2
}
